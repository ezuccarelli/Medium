{
 "cells": [
  {
   "cell_type": "markdown",
   "metadata": {
    "collapsed": true
   },
   "source": [
    "<center><h1>Driver Accident Risk Model</center>\n",
    "<br>\n",
    "    \n",
    "---\n",
    "   \n",
    "<b>Objective</b>: Develop a model able to predict whether a driver is going to have a severe or fatal accident given biographical information and vehicle characteristics.\n",
    "\n",
    "The probability in output of the predictive model can be used as a \"Driver Score\" highlighting the overall riskiness of a driver.\n",
    "    \n",
    "<b>Data</b>: https://data.gov.uk/dataset/cb7ae6f0-4be6-4935-9277-47e5ce24a11f/road-safety-data\n",
    "    \n",
    "---"
   ]
  },
  {
   "cell_type": "markdown",
   "metadata": {},
   "source": [
    "## Libraries"
   ]
  },
  {
   "cell_type": "code",
   "execution_count": null,
   "metadata": {},
   "outputs": [],
   "source": [
    "import matplotlib as mp\n",
    "import numpy as np\n",
    "import pandas as pd\n",
    "import sklearn.ensemble as se\n",
    "import sklearn.impute as si\n",
    "import sklearn.linear_model as lm\n",
    "import sklearn.metrics as sm\n",
    "import sklearn.model_selection as ms\n",
    "import xgboost as xg\n",
    "\n",
    "\n",
    "# Jupyter Plots\n",
    "mp.rcParams['figure.dpi']= 600\n",
    "%matplotlib inline"
   ]
  },
  {
   "cell_type": "markdown",
   "metadata": {},
   "source": [
    "## 4. Data Loading"
   ]
  },
  {
   "cell_type": "code",
   "execution_count": null,
   "metadata": {},
   "outputs": [],
   "source": [
    "vehicles = pd.read_csv('Data/UK Accidents/Vehicles.csv', low_memory=False)\n",
    "casualties = pd.read_csv('Data/UK Accidents/Casualties.csv', low_memory=False)\n",
    "accidents = pd.read_csv('Data/UK Accidents/Accidents.csv', low_memory=False)"
   ]
  },
  {
   "cell_type": "markdown",
   "metadata": {},
   "source": [
    "## 5. Exploratory Analysis"
   ]
  },
  {
   "cell_type": "markdown",
   "metadata": {},
   "source": [
    "### Vehicles"
   ]
  },
  {
   "cell_type": "code",
   "execution_count": null,
   "metadata": {},
   "outputs": [],
   "source": [
    "vehicles.head()"
   ]
  },
  {
   "cell_type": "code",
   "execution_count": null,
   "metadata": {},
   "outputs": [],
   "source": [
    "vehicles.describe()"
   ]
  },
  {
   "cell_type": "markdown",
   "metadata": {},
   "source": [
    "### Casualties"
   ]
  },
  {
   "cell_type": "code",
   "execution_count": null,
   "metadata": {},
   "outputs": [],
   "source": [
    "casualties.head()"
   ]
  },
  {
   "cell_type": "code",
   "execution_count": null,
   "metadata": {
    "scrolled": true
   },
   "outputs": [],
   "source": [
    "casualties.describe()"
   ]
  },
  {
   "cell_type": "code",
   "execution_count": null,
   "metadata": {},
   "outputs": [],
   "source": [
    "mp.pyplot.title('Histogram of Casualty Severity');\n",
    "casualties.Casualty_Severity.hist(bins=np.arange(4.5)-0.5);"
   ]
  },
  {
   "cell_type": "markdown",
   "metadata": {},
   "source": [
    "### Accidents"
   ]
  },
  {
   "cell_type": "code",
   "execution_count": null,
   "metadata": {},
   "outputs": [],
   "source": [
    "accidents.head()"
   ]
  },
  {
   "cell_type": "code",
   "execution_count": null,
   "metadata": {
    "scrolled": true
   },
   "outputs": [],
   "source": [
    "accidents.describe()"
   ]
  },
  {
   "cell_type": "markdown",
   "metadata": {},
   "source": [
    "### Parameters"
   ]
  },
  {
   "cell_type": "code",
   "execution_count": null,
   "metadata": {},
   "outputs": [],
   "source": [
    "PREDICTIVE_FEATURES = ['Vehicle_Type','Towing_and_Articulation','Was_Vehicle_Left_Hand_Drive?', \n",
    "                       'Sex_of_Driver', 'Age_of_Driver', 'Engine_Capacity_(CC)', 'Propulsion_Code',\n",
    "                       'Age_of_Vehicle', 'Driver_IMD_Decile', 'Driver_Home_Area_Type', 'Vehicle_IMD_Decile']\n",
    "\n",
    "DESCRIPTIVE_FEATURES = ['Location_Easting_OSGR', 'Location_Northing_OSGR', 'Longitude', \n",
    "                        'Latitude', 'Police_Force',\n",
    "                        'Number_of_Vehicles', 'Number_of_Casualties', 'Date', \n",
    "                        'Day_of_Week', 'Time', 'Local_Authority_(District)', \n",
    "                        'Local_Authority_(Highway)', '1st_Road_Class', '1st_Road_Number', \n",
    "                        'Road_Type', 'Speed_limit', 'Junction_Detail', \n",
    "                        'Junction_Control', '2nd_Road_Class', '2nd_Road_Number', \n",
    "                        'Pedestrian_Crossing-Human_Control', 'Carriageway_Hazards', \n",
    "                        'Pedestrian_Crossing-Physical_Facilities', 'Light_Conditions', 'Weather_Conditions', \n",
    "                        'Road_Surface_Conditions', 'Special_Conditions_at_Site', 'Urban_or_Rural_Area', \n",
    "                        'Did_Police_Officer_Attend_Scene_of_Accident', 'LSOA_of_Accident_Location',\n",
    "                        'Vehicle_Manoeuvre','Vehicle_Location-Restricted_Lane', 'Junction_Location',\n",
    "                        'Skidding_and_Overturning', 'Hit_Object_in_Carriageway','Vehicle_Leaving_Carriageway', \n",
    "                        'Hit_Object_off_Carriageway','1st_Point_of_Impact','Journey_Purpose_of_Driver',\n",
    "                        'Pedestrian_Location', 'Pedestrian_Movement', 'Pedestrian_Road_Maintenance_Worker', 'Casualty_Type',\n",
    "                        'Casualty_Home_Area_Type', 'Casualty_IMD_Decile', 'Casualty_Severity']\n",
    "\n",
    "CATEGORICAL_FEATURES = ['Vehicle_Type', 'Towing_and_Articulation', 'Sex_of_Driver', \n",
    "                        'Propulsion_Code', 'Driver_Home_Area_Type']\n",
    "BINARY_FEATURES = ['Was_Vehicle_Left_Hand_Drive']"
   ]
  },
  {
   "cell_type": "markdown",
   "metadata": {},
   "source": [
    "## 6. Data Aggregation"
   ]
  },
  {
   "cell_type": "code",
   "execution_count": null,
   "metadata": {},
   "outputs": [],
   "source": [
    "# For each vehicle involved in an accident, select the highest severity (lowest score) experienced by a person\n",
    "casualties_vehicles = casualties.groupby(['Accident_Index', 'Vehicle_Reference'])['Casualty_Severity'].min().reset_index()\n",
    "casualties_vehicles"
   ]
  },
  {
   "cell_type": "code",
   "execution_count": null,
   "metadata": {},
   "outputs": [],
   "source": [
    "data = vehicles.merge(casualties_vehicles, how='left', on=['Accident_Index', 'Vehicle_Reference'])\n",
    "data"
   ]
  },
  {
   "cell_type": "markdown",
   "metadata": {},
   "source": [
    "## 7. Data Cleaning"
   ]
  },
  {
   "cell_type": "markdown",
   "metadata": {},
   "source": [
    "### Aggregate Unknown and Missing"
   ]
  },
  {
   "cell_type": "code",
   "execution_count": null,
   "metadata": {},
   "outputs": [],
   "source": [
    "data['Sex_of_Driver'] = data['Sex_of_Driver'].replace(3, -1)"
   ]
  },
  {
   "cell_type": "markdown",
   "metadata": {},
   "source": [
    "### Remove NAs"
   ]
  },
  {
   "cell_type": "code",
   "execution_count": null,
   "metadata": {},
   "outputs": [],
   "source": [
    "data['Casualty_Severity'].fillna(value=0, inplace=True)"
   ]
  },
  {
   "cell_type": "code",
   "execution_count": null,
   "metadata": {},
   "outputs": [],
   "source": [
    "# Encoding missing values as -1 shifts the distribution, we encode them as nan for imputing them later\n",
    "data = data.replace(-1, np.nan)"
   ]
  },
  {
   "cell_type": "markdown",
   "metadata": {},
   "source": [
    "### Target Variable Encoding"
   ]
  },
  {
   "cell_type": "code",
   "execution_count": null,
   "metadata": {},
   "outputs": [],
   "source": [
    "def severity(x):\n",
    "    if x in (0.0, 3.0):\n",
    "        return 0\n",
    "    else:\n",
    "        return 1"
   ]
  },
  {
   "cell_type": "code",
   "execution_count": null,
   "metadata": {},
   "outputs": [],
   "source": [
    "data['Casualty_Severity'] = data['Casualty_Severity'].apply(severity)"
   ]
  },
  {
   "cell_type": "markdown",
   "metadata": {},
   "source": [
    "### Ex-Ante Features"
   ]
  },
  {
   "cell_type": "code",
   "execution_count": null,
   "metadata": {},
   "outputs": [],
   "source": [
    "# Restrict the dataset to ex-ante features\n",
    "columns = PREDICTIVE_FEATURES\n",
    "columns.append('Casualty_Severity')\n",
    "\n",
    "data = data[columns]"
   ]
  },
  {
   "cell_type": "markdown",
   "metadata": {},
   "source": [
    "## 8. Feature Engineering"
   ]
  },
  {
   "cell_type": "markdown",
   "metadata": {},
   "source": [
    "### One-Hot Encoding for Categorical Variables"
   ]
  },
  {
   "cell_type": "code",
   "execution_count": null,
   "metadata": {},
   "outputs": [],
   "source": [
    "for c in CATEGORICAL_FEATURES:\n",
    "    if c in data.columns:\n",
    "        one_hot = pd.get_dummies(data[c], prefix=c)\n",
    "        data = data.drop(c, axis=1)\n",
    "        data = data.join(one_hot)"
   ]
  },
  {
   "cell_type": "markdown",
   "metadata": {},
   "source": [
    "### Binary Variables Encoding"
   ]
  },
  {
   "cell_type": "code",
   "execution_count": null,
   "metadata": {},
   "outputs": [],
   "source": [
    "# Convert 1 and 2 to False and True\n",
    "for b in BINARY_FEATURES:\n",
    "    if b in data.columns:\n",
    "        data[b] = data[b].map({1: 0, 2: 1})\n",
    "        data[b] = data[b].astype(bool)"
   ]
  },
  {
   "cell_type": "markdown",
   "metadata": {},
   "source": [
    "## 9. Split Training, Validation and Test"
   ]
  },
  {
   "cell_type": "code",
   "execution_count": null,
   "metadata": {},
   "outputs": [],
   "source": [
    "X = data[data.columns[~data.columns.isin(['Casualty_Severity'])]]\n",
    "y = data['Casualty_Severity']\n",
    "\n",
    "train_X, test_X, train_y, test_y = ms.train_test_split(X, y)"
   ]
  },
  {
   "cell_type": "markdown",
   "metadata": {},
   "source": [
    "## 10. Imputation"
   ]
  },
  {
   "cell_type": "code",
   "execution_count": null,
   "metadata": {},
   "outputs": [],
   "source": [
    "lnr = si.KNNImputer()\n",
    "\n",
    "lnr.fit(train_X)\n",
    "\n",
    "train_X = lnr.transform(train_X)\n",
    "test_X = lnr.transform(test_X)"
   ]
  },
  {
   "cell_type": "markdown",
   "metadata": {},
   "source": [
    "## 11. Modelling"
   ]
  },
  {
   "cell_type": "markdown",
   "metadata": {},
   "source": [
    "### Logistic Regression Model"
   ]
  },
  {
   "cell_type": "code",
   "execution_count": null,
   "metadata": {},
   "outputs": [],
   "source": [
    "model = lm.LogisticRegression()\n",
    "\n",
    "# Hyperparameters\n",
    "params = {\n",
    "    'C': [0.001, 0.01, 0.1, 1, 10, 100],\n",
    "    'penalty': ['l1', 'l2'], \n",
    "    'max_iter': [1000],\n",
    "    'class_weight': ['balanced']\n",
    "}\n",
    "\n",
    "# Grid Search\n",
    "clf = ms.GridSearchCV(model, params)\n",
    "\n",
    "# Model Fit\n",
    "logit = clf.fit(train_X, train_y)"
   ]
  },
  {
   "cell_type": "markdown",
   "metadata": {},
   "source": [
    "### Random Forests"
   ]
  },
  {
   "cell_type": "code",
   "execution_count": null,
   "metadata": {},
   "outputs": [],
   "source": [
    "# Logistic Regression Model\n",
    "model = se.RandomForestClassifier()\n",
    "\n",
    "# Hyperparameters\n",
    "params = {\n",
    " 'max_depth': [10],\n",
    " 'n_estimators': [100, 1000],\n",
    " 'class_weight': [{0: 1, 1: 4# Logistic Regression Model\n",
    "model = se.RandomForestClassifier()\n",
    "\n",
    "# Hyperparameters\n",
    "params = {\n",
    " 'max_depth': [10],\n",
    " 'n_estimators': [100, 1000],\n",
    " 'class_weight': [{0: 1, 1: 4}]\n",
    "}\n",
    "\n",
    "# Grid Search\n",
    "clf = ms.GridSearchCV(model, params)\n",
    "\n",
    "# Model Fit\n",
    "rf = clf.fit(train_X, train_y)}]\n",
    "}\n",
    "\n",
    "# Grid Search\n",
    "clf = ms.GridSearchCV(model, params)\n",
    "\n",
    "# Model Fit\n",
    "rf = clf.fit(train_X, train_y)"
   ]
  },
  {
   "cell_type": "markdown",
   "metadata": {},
   "source": [
    "### XGBoost"
   ]
  },
  {
   "cell_type": "code",
   "execution_count": null,
   "metadata": {},
   "outputs": [],
   "source": [
    "# Gradient Boosting Model\n",
    "model = xg.XGBClassifier()\n",
    "\n",
    "# Hyperparameters\n",
    "params = {\n",
    "        'eta': [0.001, 0.01],\n",
    "        'max_depth': [5, 10],\n",
    "        'n_estimators': [50, 100, 1000],\n",
    "        'scale_pos_weight': [1, 14]\n",
    "        }\n",
    "\n",
    "# Grid Search\n",
    "grid = ms.GridSearchCV(model, params)\n",
    "\n",
    "# Model Fit\n",
    "xgb = grid.fit(train_X, train_y)"
   ]
  },
  {
   "cell_type": "markdown",
   "metadata": {},
   "source": [
    "## 12. Performance Evaluation"
   ]
  },
  {
   "cell_type": "markdown",
   "metadata": {},
   "source": [
    "### Logistic Regression"
   ]
  },
  {
   "cell_type": "code",
   "execution_count": null,
   "metadata": {},
   "outputs": [],
   "source": [
    "predictions_train = logit.predict_proba(train_X)[:, 1]\n",
    "predictions_test = logit.predict_proba(test_X)[:, 1]\n",
    "print('In Sample AUC:', sm.roc_auc_score(train_y, predictions_train))\n",
    "print('Out of Sample AUC: ', sm.roc_auc_score(test_y, predictions_test))"
   ]
  },
  {
   "cell_type": "markdown",
   "metadata": {},
   "source": [
    "### Random Forests"
   ]
  },
  {
   "cell_type": "code",
   "execution_count": null,
   "metadata": {},
   "outputs": [],
   "source": [
    "predictions_train = rf.predict_proba(train_X)[:, 1]\n",
    "predictions_test = rf.predict_proba(test_X)[:, 1]\n",
    "print('In Sample AUC:', sm.roc_auc_score(train_y, predictions_train))\n",
    "print('Out of Sample AUC: ', sm.roc_auc_score(test_y, predictions_test))"
   ]
  },
  {
   "cell_type": "markdown",
   "metadata": {},
   "source": [
    "### XGBoost"
   ]
  },
  {
   "cell_type": "code",
   "execution_count": null,
   "metadata": {},
   "outputs": [],
   "source": [
    "predictions_train = xgb.predict_proba(train_X)[:, 1]\n",
    "predictions_test = xgb.predict_proba(test_X)[:, 1]\n",
    "print('In Sample AUC:', sm.roc_auc_score(train_y, predictions_train))\n",
    "print('Out of Sample AUC: ', sm.roc_auc_score(test_y, predictions_test))"
   ]
  }
 ],
 "metadata": {
  "kernelspec": {
   "display_name": "Python 3",
   "language": "python",
   "name": "python3"
  },
  "language_info": {
   "codemirror_mode": {
    "name": "ipython",
    "version": 3
   },
   "file_extension": ".py",
   "mimetype": "text/x-python",
   "name": "python",
   "nbconvert_exporter": "python",
   "pygments_lexer": "ipython3",
   "version": "3.6.2"
  }
 },
 "nbformat": 4,
 "nbformat_minor": 1
}
