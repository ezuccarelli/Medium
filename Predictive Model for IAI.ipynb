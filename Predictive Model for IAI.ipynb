{
 "cells": [
  {
   "cell_type": "markdown",
   "metadata": {
    "collapsed": true
   },
   "source": [
    "<center><h1>UK Accidents\n",
    "<h1>Accident Severity Predictive Model\n",
    "<h2>Eugenio Zuccarelli</center>\n",
    "    \n",
    "---\n",
    "   \n",
    "Develop a predictive model able to predict whether a driver is likely to have a severe or fatal accident given biographical information and vehicle characteristics.\n",
    "\n",
    "The probability in output of the predictive model can be used as a \"Drive Score\" highlighting the overall riskiness of a driver.\n",
    "    \n",
    "---"
   ]
  },
  {
   "cell_type": "markdown",
   "metadata": {},
   "source": [
    "## 1. Libraries"
   ]
  },
  {
   "cell_type": "code",
   "execution_count": 6,
   "metadata": {},
   "outputs": [],
   "source": [
    "import interpretableai.iai as ai\n",
    "import matplotlib.pyplot as plt\n",
    "import numpy as np\n",
    "import pandas as pd\n",
    "import scipy.cluster.hierarchy as sh\n",
    "import sklearn.cluster as sc\n",
    "import sklearn.ensemble as se\n",
    "import sklearn.linear_model as lm\n",
    "import sklearn.model_selection as ms\n",
    "import sklearn.metrics as sm\n",
    "import xgboost as xg\n",
    "from IPython.display import display\n",
    "from julia import Distributed\n",
    "\n",
    "\n",
    "# Enable Parallel Processing\n",
    "Distributed.addprocs(23)\n",
    "\n",
    "# Jupyter Plots\n",
    "%matplotlib inline"
   ]
  },
  {
   "cell_type": "markdown",
   "metadata": {},
   "source": [
    "## 2. Parameters"
   ]
  },
  {
   "cell_type": "code",
   "execution_count": 7,
   "metadata": {},
   "outputs": [],
   "source": [
    "PREDICTIVE_FEATURES = ['Vehicle_Type','Towing_and_Articulation','Was_Vehicle_Left_Hand_Drive?', \n",
    "                       'Sex_of_Driver', 'Age_of_Driver', 'Engine_Capacity_(CC)', 'Propulsion_Code',\n",
    "                       'Age_of_Vehicle', 'Driver_IMD_Decile', 'Driver_Home_Area_Type', 'Vehicle_IMD_Decile']\n",
    "\n",
    "DESCRIPTIVE_FEATURES = ['Location_Easting_OSGR', 'Location_Northing_OSGR', 'Longitude', \n",
    "                        'Latitude', 'Police_Force',\n",
    "                        'Number_of_Vehicles', 'Number_of_Casualties', 'Date', \n",
    "                        'Day_of_Week', 'Time', 'Local_Authority_(District)', \n",
    "                        'Local_Authority_(Highway)', '1st_Road_Class', '1st_Road_Number', \n",
    "                        'Road_Type', 'Speed_limit', 'Junction_Detail', \n",
    "                        'Junction_Control', '2nd_Road_Class', '2nd_Road_Number', \n",
    "                        'Pedestrian_Crossing-Human_Control', 'Carriageway_Hazards', \n",
    "                        'Pedestrian_Crossing-Physical_Facilities', 'Light_Conditions', 'Weather_Conditions', \n",
    "                        'Road_Surface_Conditions', 'Special_Conditions_at_Site', 'Urban_or_Rural_Area', \n",
    "                        'Did_Police_Officer_Attend_Scene_of_Accident', 'LSOA_of_Accident_Location',\n",
    "                        'Vehicle_Manoeuvre','Vehicle_Location-Restricted_Lane', 'Junction_Location',\n",
    "                        'Skidding_and_Overturning', 'Hit_Object_in_Carriageway','Vehicle_Leaving_Carriageway', \n",
    "                        'Hit_Object_off_Carriageway','1st_Point_of_Impact','Journey_Purpose_of_Driver',\n",
    "                        'Pedestrian_Location', 'Pedestrian_Movement', 'Pedestrian_Road_Maintenance_Worker', 'Casualty_Type',\n",
    "                        'Casualty_Home_Area_Type', 'Casualty_IMD_Decile', 'Casualty_Severity']\n",
    "\n",
    "CATEGORICAL_FEATURES = ['Vehicle_Type', 'Towing_and_Articulation', 'Sex_of_Driver', \n",
    "                        'Propulsion_Code', 'Driver_Home_Area_Type']\n",
    "BINARY_FEATURES = ['Was_Vehicle_Left_Hand_Drive']"
   ]
  },
  {
   "cell_type": "markdown",
   "metadata": {},
   "source": [
    "## 3. Data Loading\n",
    "\n",
    "---\n",
    "\n",
    "The datasets consist of:\n",
    "1. An accident-level dataset. Each row contains information on the accident's location, time of the day, etc.\n",
    "2. A casualty-level dataset with biographical information on the casualty.\n",
    "3. A vehicle-level dataset listing the features of each vehicle involved in the accident.\n",
    "\n",
    "Due to the nature of the datasets, we need to make sure that the features used in the predictive model do not contain ex-post information. Only after, we can ensure a useable model.\n",
    "\n",
    "---\n"
   ]
  },
  {
   "cell_type": "code",
   "execution_count": 8,
   "metadata": {},
   "outputs": [],
   "source": [
    "accidents = pd.read_csv('Data/Accidents.csv', low_memory=False)\n",
    "casualties = pd.read_csv('Data/Casualties.csv', low_memory=False)\n",
    "vehicles = pd.read_csv('Data/Vehicles.csv', low_memory=False)"
   ]
  },
  {
   "cell_type": "code",
   "execution_count": 9,
   "metadata": {},
   "outputs": [],
   "source": [
    "# For each vehicle involved in an accident, select the highest severity (lowest score) experienced by a person\n",
    "casualties_vehicles = casualties.groupby(['Accident_Index', 'Vehicle_Reference'])['Casualty_Severity'].min().reset_index()\n",
    "data = vehicles.merge(casualties_vehicles, how='left', on=['Accident_Index', 'Vehicle_Reference'])\n",
    "\n",
    "# Restrict the dataset to ex-ante features\n",
    "columns = PREDICTIVE_FEATURES\n",
    "columns.append('Casualty_Severity')\n",
    "\n",
    "data = data[columns]"
   ]
  },
  {
   "cell_type": "markdown",
   "metadata": {},
   "source": [
    "## 4. Data Preprocessing"
   ]
  },
  {
   "cell_type": "markdown",
   "metadata": {},
   "source": [
    "### Aggregate Unknown and Missing"
   ]
  },
  {
   "cell_type": "code",
   "execution_count": 10,
   "metadata": {},
   "outputs": [],
   "source": [
    "data['Sex_of_Driver'] = data['Sex_of_Driver'].replace(3, -1)"
   ]
  },
  {
   "cell_type": "markdown",
   "metadata": {},
   "source": [
    "### Remove NAs"
   ]
  },
  {
   "cell_type": "code",
   "execution_count": 11,
   "metadata": {},
   "outputs": [],
   "source": [
    "data['Casualty_Severity'].fillna(value = 0, inplace = True)"
   ]
  },
  {
   "cell_type": "code",
   "execution_count": 12,
   "metadata": {},
   "outputs": [],
   "source": [
    "data = data.replace(-1, np.nan)"
   ]
  },
  {
   "cell_type": "markdown",
   "metadata": {},
   "source": [
    "### Target Variable Encoding"
   ]
  },
  {
   "cell_type": "code",
   "execution_count": 13,
   "metadata": {},
   "outputs": [],
   "source": [
    "def severity(x):\n",
    "    if x in (0.0, 3.0):\n",
    "        return 0\n",
    "    else:\n",
    "        return 1"
   ]
  },
  {
   "cell_type": "code",
   "execution_count": 14,
   "metadata": {},
   "outputs": [],
   "source": [
    "data['Casualty_Severity'] = data['Casualty_Severity'].apply(severity)"
   ]
  },
  {
   "cell_type": "markdown",
   "metadata": {},
   "source": [
    "### One-Hot Encoding for Categorical Variables"
   ]
  },
  {
   "cell_type": "code",
   "execution_count": 15,
   "metadata": {},
   "outputs": [],
   "source": [
    "for c in CATEGORICAL_FEATURES:\n",
    "    if c in data.columns:\n",
    "        one_hot = pd.get_dummies(data[c], prefix=c)\n",
    "        data = data.drop(c, axis=1)\n",
    "        data = data.join(one_hot)"
   ]
  },
  {
   "cell_type": "markdown",
   "metadata": {},
   "source": [
    "### Binary Variables Encoding"
   ]
  },
  {
   "cell_type": "code",
   "execution_count": 16,
   "metadata": {},
   "outputs": [],
   "source": [
    "# Convert 1 and 2 to False and True\n",
    "for b in BINARY_FEATURES:\n",
    "    if b in data.columns:\n",
    "        data[b] = data[b].map({1: 0, 2: 1})\n",
    "        data[b] = data[b].astype(bool)"
   ]
  },
  {
   "cell_type": "markdown",
   "metadata": {},
   "source": [
    "## 5. Split Train and Test Set"
   ]
  },
  {
   "cell_type": "code",
   "execution_count": 17,
   "metadata": {},
   "outputs": [],
   "source": [
    "X = data[data.columns[~data.columns.isin(['Casualty_Severity'])]]\n",
    "y = data['Casualty_Severity']\n",
    "\n",
    "(train_X, train_y), (test_X, test_y) = ai.split_data('classification', X, y, seed=1)"
   ]
  },
  {
   "cell_type": "code",
   "execution_count": 18,
   "metadata": {},
   "outputs": [
    {
     "data": {
      "text/html": [
       "<div>\n",
       "<style scoped>\n",
       "    .dataframe tbody tr th:only-of-type {\n",
       "        vertical-align: middle;\n",
       "    }\n",
       "\n",
       "    .dataframe tbody tr th {\n",
       "        vertical-align: top;\n",
       "    }\n",
       "\n",
       "    .dataframe thead th {\n",
       "        text-align: right;\n",
       "    }\n",
       "</style>\n",
       "<table border=\"1\" class=\"dataframe\">\n",
       "  <thead>\n",
       "    <tr style=\"text-align: right;\">\n",
       "      <th></th>\n",
       "      <th>Was_Vehicle_Left_Hand_Drive?</th>\n",
       "      <th>Age_of_Driver</th>\n",
       "      <th>Engine_Capacity_(CC)</th>\n",
       "      <th>Age_of_Vehicle</th>\n",
       "      <th>Driver_IMD_Decile</th>\n",
       "      <th>Vehicle_IMD_Decile</th>\n",
       "      <th>Casualty_Severity</th>\n",
       "      <th>Vehicle_Type_1.0</th>\n",
       "      <th>Vehicle_Type_2.0</th>\n",
       "      <th>Vehicle_Type_3.0</th>\n",
       "      <th>...</th>\n",
       "      <th>Propulsion_Code_2.0</th>\n",
       "      <th>Propulsion_Code_3.0</th>\n",
       "      <th>Propulsion_Code_5.0</th>\n",
       "      <th>Propulsion_Code_6.0</th>\n",
       "      <th>Propulsion_Code_7.0</th>\n",
       "      <th>Propulsion_Code_8.0</th>\n",
       "      <th>Propulsion_Code_12.0</th>\n",
       "      <th>Driver_Home_Area_Type_1.0</th>\n",
       "      <th>Driver_Home_Area_Type_2.0</th>\n",
       "      <th>Driver_Home_Area_Type_3.0</th>\n",
       "    </tr>\n",
       "  </thead>\n",
       "  <tbody>\n",
       "    <tr>\n",
       "      <th>0</th>\n",
       "      <td>1.0</td>\n",
       "      <td>32.0</td>\n",
       "      <td>1995.0</td>\n",
       "      <td>5.0</td>\n",
       "      <td>8.0</td>\n",
       "      <td>8.0</td>\n",
       "      <td>0</td>\n",
       "      <td>0</td>\n",
       "      <td>0</td>\n",
       "      <td>0</td>\n",
       "      <td>...</td>\n",
       "      <td>1</td>\n",
       "      <td>0</td>\n",
       "      <td>0</td>\n",
       "      <td>0</td>\n",
       "      <td>0</td>\n",
       "      <td>0</td>\n",
       "      <td>0</td>\n",
       "      <td>1</td>\n",
       "      <td>0</td>\n",
       "      <td>0</td>\n",
       "    </tr>\n",
       "    <tr>\n",
       "      <th>1</th>\n",
       "      <td>1.0</td>\n",
       "      <td>48.0</td>\n",
       "      <td>1798.0</td>\n",
       "      <td>6.0</td>\n",
       "      <td>1.0</td>\n",
       "      <td>1.0</td>\n",
       "      <td>0</td>\n",
       "      <td>0</td>\n",
       "      <td>0</td>\n",
       "      <td>0</td>\n",
       "      <td>...</td>\n",
       "      <td>0</td>\n",
       "      <td>0</td>\n",
       "      <td>0</td>\n",
       "      <td>0</td>\n",
       "      <td>0</td>\n",
       "      <td>1</td>\n",
       "      <td>0</td>\n",
       "      <td>1</td>\n",
       "      <td>0</td>\n",
       "      <td>0</td>\n",
       "    </tr>\n",
       "    <tr>\n",
       "      <th>2</th>\n",
       "      <td>1.0</td>\n",
       "      <td>NaN</td>\n",
       "      <td>NaN</td>\n",
       "      <td>NaN</td>\n",
       "      <td>NaN</td>\n",
       "      <td>NaN</td>\n",
       "      <td>0</td>\n",
       "      <td>0</td>\n",
       "      <td>0</td>\n",
       "      <td>0</td>\n",
       "      <td>...</td>\n",
       "      <td>0</td>\n",
       "      <td>0</td>\n",
       "      <td>0</td>\n",
       "      <td>0</td>\n",
       "      <td>0</td>\n",
       "      <td>0</td>\n",
       "      <td>0</td>\n",
       "      <td>0</td>\n",
       "      <td>0</td>\n",
       "      <td>0</td>\n",
       "    </tr>\n",
       "    <tr>\n",
       "      <th>3</th>\n",
       "      <td>1.0</td>\n",
       "      <td>40.0</td>\n",
       "      <td>1797.0</td>\n",
       "      <td>6.0</td>\n",
       "      <td>3.0</td>\n",
       "      <td>3.0</td>\n",
       "      <td>0</td>\n",
       "      <td>0</td>\n",
       "      <td>0</td>\n",
       "      <td>0</td>\n",
       "      <td>...</td>\n",
       "      <td>0</td>\n",
       "      <td>0</td>\n",
       "      <td>0</td>\n",
       "      <td>0</td>\n",
       "      <td>0</td>\n",
       "      <td>1</td>\n",
       "      <td>0</td>\n",
       "      <td>1</td>\n",
       "      <td>0</td>\n",
       "      <td>0</td>\n",
       "    </tr>\n",
       "    <tr>\n",
       "      <th>4</th>\n",
       "      <td>1.0</td>\n",
       "      <td>21.0</td>\n",
       "      <td>NaN</td>\n",
       "      <td>NaN</td>\n",
       "      <td>5.0</td>\n",
       "      <td>5.0</td>\n",
       "      <td>0</td>\n",
       "      <td>0</td>\n",
       "      <td>0</td>\n",
       "      <td>0</td>\n",
       "      <td>...</td>\n",
       "      <td>0</td>\n",
       "      <td>0</td>\n",
       "      <td>0</td>\n",
       "      <td>0</td>\n",
       "      <td>0</td>\n",
       "      <td>0</td>\n",
       "      <td>0</td>\n",
       "      <td>1</td>\n",
       "      <td>0</td>\n",
       "      <td>0</td>\n",
       "    </tr>\n",
       "    <tr>\n",
       "      <th>...</th>\n",
       "      <td>...</td>\n",
       "      <td>...</td>\n",
       "      <td>...</td>\n",
       "      <td>...</td>\n",
       "      <td>...</td>\n",
       "      <td>...</td>\n",
       "      <td>...</td>\n",
       "      <td>...</td>\n",
       "      <td>...</td>\n",
       "      <td>...</td>\n",
       "      <td>...</td>\n",
       "      <td>...</td>\n",
       "      <td>...</td>\n",
       "      <td>...</td>\n",
       "      <td>...</td>\n",
       "      <td>...</td>\n",
       "      <td>...</td>\n",
       "      <td>...</td>\n",
       "      <td>...</td>\n",
       "      <td>...</td>\n",
       "      <td>...</td>\n",
       "    </tr>\n",
       "    <tr>\n",
       "      <th>226404</th>\n",
       "      <td>1.0</td>\n",
       "      <td>67.0</td>\n",
       "      <td>998.0</td>\n",
       "      <td>4.0</td>\n",
       "      <td>NaN</td>\n",
       "      <td>NaN</td>\n",
       "      <td>0</td>\n",
       "      <td>0</td>\n",
       "      <td>0</td>\n",
       "      <td>0</td>\n",
       "      <td>...</td>\n",
       "      <td>0</td>\n",
       "      <td>0</td>\n",
       "      <td>0</td>\n",
       "      <td>0</td>\n",
       "      <td>0</td>\n",
       "      <td>0</td>\n",
       "      <td>0</td>\n",
       "      <td>0</td>\n",
       "      <td>0</td>\n",
       "      <td>1</td>\n",
       "    </tr>\n",
       "    <tr>\n",
       "      <th>226405</th>\n",
       "      <td>1.0</td>\n",
       "      <td>24.0</td>\n",
       "      <td>3000.0</td>\n",
       "      <td>21.0</td>\n",
       "      <td>NaN</td>\n",
       "      <td>NaN</td>\n",
       "      <td>0</td>\n",
       "      <td>0</td>\n",
       "      <td>0</td>\n",
       "      <td>0</td>\n",
       "      <td>...</td>\n",
       "      <td>1</td>\n",
       "      <td>0</td>\n",
       "      <td>0</td>\n",
       "      <td>0</td>\n",
       "      <td>0</td>\n",
       "      <td>0</td>\n",
       "      <td>0</td>\n",
       "      <td>0</td>\n",
       "      <td>0</td>\n",
       "      <td>1</td>\n",
       "    </tr>\n",
       "    <tr>\n",
       "      <th>226406</th>\n",
       "      <td>1.0</td>\n",
       "      <td>NaN</td>\n",
       "      <td>2400.0</td>\n",
       "      <td>5.0</td>\n",
       "      <td>NaN</td>\n",
       "      <td>NaN</td>\n",
       "      <td>0</td>\n",
       "      <td>0</td>\n",
       "      <td>0</td>\n",
       "      <td>0</td>\n",
       "      <td>...</td>\n",
       "      <td>1</td>\n",
       "      <td>0</td>\n",
       "      <td>0</td>\n",
       "      <td>0</td>\n",
       "      <td>0</td>\n",
       "      <td>0</td>\n",
       "      <td>0</td>\n",
       "      <td>0</td>\n",
       "      <td>0</td>\n",
       "      <td>0</td>\n",
       "    </tr>\n",
       "    <tr>\n",
       "      <th>226407</th>\n",
       "      <td>1.0</td>\n",
       "      <td>60.0</td>\n",
       "      <td>49.0</td>\n",
       "      <td>10.0</td>\n",
       "      <td>NaN</td>\n",
       "      <td>NaN</td>\n",
       "      <td>1</td>\n",
       "      <td>0</td>\n",
       "      <td>1</td>\n",
       "      <td>0</td>\n",
       "      <td>...</td>\n",
       "      <td>0</td>\n",
       "      <td>0</td>\n",
       "      <td>0</td>\n",
       "      <td>0</td>\n",
       "      <td>0</td>\n",
       "      <td>0</td>\n",
       "      <td>0</td>\n",
       "      <td>0</td>\n",
       "      <td>0</td>\n",
       "      <td>1</td>\n",
       "    </tr>\n",
       "    <tr>\n",
       "      <th>226408</th>\n",
       "      <td>1.0</td>\n",
       "      <td>21.0</td>\n",
       "      <td>899.0</td>\n",
       "      <td>5.0</td>\n",
       "      <td>NaN</td>\n",
       "      <td>NaN</td>\n",
       "      <td>0</td>\n",
       "      <td>0</td>\n",
       "      <td>0</td>\n",
       "      <td>0</td>\n",
       "      <td>...</td>\n",
       "      <td>0</td>\n",
       "      <td>0</td>\n",
       "      <td>0</td>\n",
       "      <td>0</td>\n",
       "      <td>0</td>\n",
       "      <td>0</td>\n",
       "      <td>0</td>\n",
       "      <td>0</td>\n",
       "      <td>1</td>\n",
       "      <td>0</td>\n",
       "    </tr>\n",
       "  </tbody>\n",
       "</table>\n",
       "<p>226409 rows × 46 columns</p>\n",
       "</div>"
      ],
      "text/plain": [
       "        Was_Vehicle_Left_Hand_Drive?  Age_of_Driver  Engine_Capacity_(CC)  \\\n",
       "0                                1.0           32.0                1995.0   \n",
       "1                                1.0           48.0                1798.0   \n",
       "2                                1.0            NaN                   NaN   \n",
       "3                                1.0           40.0                1797.0   \n",
       "4                                1.0           21.0                   NaN   \n",
       "...                              ...            ...                   ...   \n",
       "226404                           1.0           67.0                 998.0   \n",
       "226405                           1.0           24.0                3000.0   \n",
       "226406                           1.0            NaN                2400.0   \n",
       "226407                           1.0           60.0                  49.0   \n",
       "226408                           1.0           21.0                 899.0   \n",
       "\n",
       "        Age_of_Vehicle  Driver_IMD_Decile  Vehicle_IMD_Decile  \\\n",
       "0                  5.0                8.0                 8.0   \n",
       "1                  6.0                1.0                 1.0   \n",
       "2                  NaN                NaN                 NaN   \n",
       "3                  6.0                3.0                 3.0   \n",
       "4                  NaN                5.0                 5.0   \n",
       "...                ...                ...                 ...   \n",
       "226404             4.0                NaN                 NaN   \n",
       "226405            21.0                NaN                 NaN   \n",
       "226406             5.0                NaN                 NaN   \n",
       "226407            10.0                NaN                 NaN   \n",
       "226408             5.0                NaN                 NaN   \n",
       "\n",
       "        Casualty_Severity  Vehicle_Type_1.0  Vehicle_Type_2.0  \\\n",
       "0                       0                 0                 0   \n",
       "1                       0                 0                 0   \n",
       "2                       0                 0                 0   \n",
       "3                       0                 0                 0   \n",
       "4                       0                 0                 0   \n",
       "...                   ...               ...               ...   \n",
       "226404                  0                 0                 0   \n",
       "226405                  0                 0                 0   \n",
       "226406                  0                 0                 0   \n",
       "226407                  1                 0                 1   \n",
       "226408                  0                 0                 0   \n",
       "\n",
       "        Vehicle_Type_3.0  ...  Propulsion_Code_2.0  Propulsion_Code_3.0  \\\n",
       "0                      0  ...                    1                    0   \n",
       "1                      0  ...                    0                    0   \n",
       "2                      0  ...                    0                    0   \n",
       "3                      0  ...                    0                    0   \n",
       "4                      0  ...                    0                    0   \n",
       "...                  ...  ...                  ...                  ...   \n",
       "226404                 0  ...                    0                    0   \n",
       "226405                 0  ...                    1                    0   \n",
       "226406                 0  ...                    1                    0   \n",
       "226407                 0  ...                    0                    0   \n",
       "226408                 0  ...                    0                    0   \n",
       "\n",
       "        Propulsion_Code_5.0  Propulsion_Code_6.0  Propulsion_Code_7.0  \\\n",
       "0                         0                    0                    0   \n",
       "1                         0                    0                    0   \n",
       "2                         0                    0                    0   \n",
       "3                         0                    0                    0   \n",
       "4                         0                    0                    0   \n",
       "...                     ...                  ...                  ...   \n",
       "226404                    0                    0                    0   \n",
       "226405                    0                    0                    0   \n",
       "226406                    0                    0                    0   \n",
       "226407                    0                    0                    0   \n",
       "226408                    0                    0                    0   \n",
       "\n",
       "        Propulsion_Code_8.0  Propulsion_Code_12.0  Driver_Home_Area_Type_1.0  \\\n",
       "0                         0                     0                          1   \n",
       "1                         1                     0                          1   \n",
       "2                         0                     0                          0   \n",
       "3                         1                     0                          1   \n",
       "4                         0                     0                          1   \n",
       "...                     ...                   ...                        ...   \n",
       "226404                    0                     0                          0   \n",
       "226405                    0                     0                          0   \n",
       "226406                    0                     0                          0   \n",
       "226407                    0                     0                          0   \n",
       "226408                    0                     0                          0   \n",
       "\n",
       "        Driver_Home_Area_Type_2.0  Driver_Home_Area_Type_3.0  \n",
       "0                               0                          0  \n",
       "1                               0                          0  \n",
       "2                               0                          0  \n",
       "3                               0                          0  \n",
       "4                               0                          0  \n",
       "...                           ...                        ...  \n",
       "226404                          0                          1  \n",
       "226405                          0                          1  \n",
       "226406                          0                          0  \n",
       "226407                          0                          1  \n",
       "226408                          1                          0  \n",
       "\n",
       "[226409 rows x 46 columns]"
      ]
     },
     "execution_count": 18,
     "metadata": {},
     "output_type": "execute_result"
    }
   ],
   "source": [
    "data"
   ]
  },
  {
   "cell_type": "markdown",
   "metadata": {},
   "source": [
    "## 6. Imputation\n",
    "\n",
    "---\n",
    "\n",
    "In this dataset, the missing values have been substituted wiith -1. Keeping such values throughout the dataset would introduce relationships across the data which are non-descriptive of the true nature of the data. Therefore, we proceed substituting -1 with NaN, and subsequently impute the dataset. To avoid biasing the imputation, we fit the imputation learner with the training set only, without the y variable, for then transforming training and test sets with such learner.\n",
    "\n",
    "---"
   ]
  },
  {
   "cell_type": "code",
   "execution_count": null,
   "metadata": {},
   "outputs": [],
   "source": [
    "lnr = ai.ImputationLearner(method='opt_knn', random_seed=1, cluster=True)\n",
    "\n",
    "lnr.fit(train_X)\n",
    "\n",
    "train_X = lnr.transform(train_X)\n",
    "test_X = lnr.transform(test_X)"
   ]
  },
  {
   "cell_type": "markdown",
   "metadata": {},
   "source": [
    "### Logistic Regression"
   ]
  },
  {
   "cell_type": "code",
   "execution_count": null,
   "metadata": {},
   "outputs": [],
   "source": [
    "# Logistic Regression Model\n",
    "model = lm.LogisticRegression()\n",
    "\n",
    "# Hyperparameters\n",
    "params = {\n",
    " 'C': [0.001, 0.01, 0.1, 1, 10, 100],\n",
    " 'penalty': ['l1', 'l2'],\n",
    " 'max_iter': [1000],\n",
    " 'class_weight': ['balanced']\n",
    "}\n",
    "\n",
    "# Grid Search\n",
    "clf = ms.GridSearchCV(model, params)\n",
    "\n",
    "# Model Fit\n",
    "model = clf.fit(train_X, train_y)"
   ]
  },
  {
   "cell_type": "markdown",
   "metadata": {},
   "source": [
    "### Logistic Regression Performance"
   ]
  },
  {
   "cell_type": "code",
   "execution_count": null,
   "metadata": {},
   "outputs": [],
   "source": [
    "predictions_train = model.predict_proba(train_X)[:, 1]\n",
    "predictions_test = model.predict_proba(test_X)[:, 1]\n",
    "print('In Sample AUC:', sm.roc_auc_score(train_y, predictions_train))\n",
    "print('Out of Sample AUC: ', sm.roc_auc_score(test_y, predictions_test))"
   ]
  },
  {
   "cell_type": "markdown",
   "metadata": {},
   "source": [
    "### Random Forests"
   ]
  },
  {
   "cell_type": "code",
   "execution_count": null,
   "metadata": {},
   "outputs": [],
   "source": [
    "# Logistic Regression Model\n",
    "model = se.RandomForestClassifier()\n",
    "\n",
    "# Hyperparameters\n",
    "params = {\n",
    " 'max_depth': [10],\n",
    " 'n_estimators': [100, 1000],\n",
    " 'class_weight': [{0: 1, 1: 4}]\n",
    "}\n",
    "\n",
    "# Grid Search\n",
    "clf = ms.GridSearchCV(model, params)\n",
    "\n",
    "# Model Fit\n",
    "model = clf.fit(train_X, train_y)"
   ]
  },
  {
   "cell_type": "markdown",
   "metadata": {},
   "source": [
    "### Random Forest Performance"
   ]
  },
  {
   "cell_type": "code",
   "execution_count": null,
   "metadata": {},
   "outputs": [],
   "source": [
    "predictions_train = model.predict_proba(train_X)[:, 1]\n",
    "predictions_test = model.predict_proba(test_X)[:, 1]\n",
    "print('In Sample AUC:', sm.roc_auc_score(train_y, predictions_train))\n",
    "print('Out of Sample AUC: ', sm.roc_auc_score(test_y, predictions_test))"
   ]
  },
  {
   "cell_type": "markdown",
   "metadata": {},
   "source": [
    "### Gradient Boosting"
   ]
  },
  {
   "cell_type": "code",
   "execution_count": null,
   "metadata": {},
   "outputs": [],
   "source": [
    "# Gradient Boosting Model\n",
    "model = xg.XGBClassifier()\n",
    "\n",
    "# Hyperparameters\n",
    "params = {\n",
    "        'nthread': [4],\n",
    "        'eta': [0.001, 0.01],\n",
    "        'max_depth': [10],\n",
    "        'n_estimators': [50, 100],\n",
    "        'scale_pos_weight': [14]\n",
    "        }\n",
    "\n",
    "# Grid Search\n",
    "grid = ms.GridSearchCV(model, params)\n",
    "\n",
    "# Model Fit\n",
    "model = grid.fit(train_X, train_y)"
   ]
  },
  {
   "cell_type": "markdown",
   "metadata": {},
   "source": [
    "### Gradient Boosting Performance"
   ]
  },
  {
   "cell_type": "code",
   "execution_count": null,
   "metadata": {},
   "outputs": [],
   "source": [
    "predictions_train = model.predict_proba(train_X)[:, 1]\n",
    "predictions_test = model.predict_proba(test_X)[:, 1]\n",
    "print('In Sample AUC:', sm.roc_auc_score(train_y, predictions_train))\n",
    "print('Out of Sample AUC: ', sm.roc_auc_score(test_y, predictions_test))"
   ]
  },
  {
   "cell_type": "markdown",
   "metadata": {},
   "source": [
    "### Optimal Classification Trees"
   ]
  },
  {
   "cell_type": "code",
   "execution_count": null,
   "metadata": {},
   "outputs": [],
   "source": [
    "# Model\n",
    "grid = ai.GridSearch(\n",
    "    ai.OptimalTreeClassifier(\n",
    "        random_seed=1,\n",
    "    ),\n",
    "    max_depth=7,\n",
    "    treat_unknown_level_missing=True,\n",
    "    missingdatamode='separate_class',\n",
    "    criterion='gini'\n",
    ")\n",
    "\n",
    "# Train the Model\n",
    "grid.fit(train_X, train_y)"
   ]
  },
  {
   "cell_type": "markdown",
   "metadata": {},
   "source": [
    "### Optimal Classification Trees Performance"
   ]
  },
  {
   "cell_type": "code",
   "execution_count": null,
   "metadata": {},
   "outputs": [],
   "source": [
    "print(grid.score(train_X, train_y, criterion='auc'))\n",
    "print(grid.score(test_X, test_y, criterion='auc'))"
   ]
  }
 ],
 "metadata": {
  "kernelspec": {
   "display_name": "Python 3",
   "language": "python",
   "name": "python3"
  },
  "language_info": {
   "codemirror_mode": {
    "name": "ipython",
    "version": 3
   },
   "file_extension": ".py",
   "mimetype": "text/x-python",
   "name": "python",
   "nbconvert_exporter": "python",
   "pygments_lexer": "ipython3",
   "version": "3.6.2"
  }
 },
 "nbformat": 4,
 "nbformat_minor": 1
}
